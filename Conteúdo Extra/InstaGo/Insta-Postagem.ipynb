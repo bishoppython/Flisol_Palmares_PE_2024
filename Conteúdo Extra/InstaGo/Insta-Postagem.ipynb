{
 "cells": [
  {
   "cell_type": "code",
   "execution_count": 86,
   "metadata": {},
   "outputs": [],
   "source": [
    "# pip freeze > requirements.txt\n",
    "# pip install -r requirements.txt\n",
    "\n",
    "from selenium import webdriver\n",
    "from webdriver_manager.chrome import ChromeDriverManager\n",
    "from selenium.webdriver.chrome.service import Service\n",
    "from selenium.webdriver.support.ui import WebDriverWait\n",
    "from selenium.webdriver.common.by import By\n",
    "from selenium.webdriver.common.keys import Keys\n",
    "from selenium.webdriver.support import expected_conditions as EC\n",
    "import time\n",
    "import warnings\n",
    "warnings.filterwarnings(\"ignore\")\n",
    "from dotenv import load_dotenv\n",
    "import os\n",
    "\n",
    "# Carrega as variáveis de ambiente do arquivo .env\n",
    "load_dotenv()\n",
    "\n",
    "# instanciando os serviços\n",
    "servico = Service(ChromeDriverManager().install())\n",
    "options = webdriver.ChromeOptions()\n",
    "options.add_argument('--headless')  # Executar em segundo plano\n",
    "navegador = webdriver.Chrome(service=servico, options=options)\n",
    "\n",
    "\n",
    "# Obtém os valores das variáveis de ambiente\n",
    "usr = os.getenv(\"usr\")\n",
    "psw = os.getenv(\"psw\")"
   ]
  },
  {
   "cell_type": "code",
   "execution_count": 87,
   "metadata": {},
   "outputs": [
    {
     "data": {
      "text/plain": [
       "('maximusdecimusb', 'K410gabriel')"
      ]
     },
     "execution_count": 87,
     "metadata": {},
     "output_type": "execute_result"
    }
   ],
   "source": [
    "usr, psw"
   ]
  },
  {
   "cell_type": "code",
   "execution_count": 88,
   "metadata": {},
   "outputs": [],
   "source": [
    "\n",
    "navegador.get(\"https://www.instagram.com/\") # É necessário inserir http ou https para que seja reconhecido o site nesta versão do selenium\n",
    "time.sleep(8)\n",
    "username = navegador.find_element(By.NAME, 'username') # Busca o elemento 'q' que é referente ao usuário \n",
    "username.send_keys(usr)\n",
    "time.sleep(3)\n",
    "password = navegador.find_element(By.NAME, 'password') # Busca o elemento 'q' que é referente ao senha \n",
    "password.send_keys(psw)\n",
    "botao = navegador.find_element(By.XPATH, '//*[@id=\"loginForm\"]/div/div[3]/button/div')\n",
    "botao.click()\n",
    "time.sleep(8)\n"
   ]
  },
  {
   "cell_type": "markdown",
   "metadata": {},
   "source": [
    "#### Clicando em Página Inicial"
   ]
  },
  {
   "cell_type": "code",
   "execution_count": 89,
   "metadata": {},
   "outputs": [],
   "source": [
    "# pag_inic = navegador.find_element(By.XPATH, \"//*[@id='mount_0_0_5C']/div/div/div[2]/div/div/div[1]/div[1]/div[1]/div/div/div/div/div[1]/div/div/a/div\")\n",
    "# pag_inic.click()\n",
    "# time.sleep(5)"
   ]
  },
  {
   "cell_type": "markdown",
   "metadata": {},
   "source": [
    "#### Salvar Informações de Login?"
   ]
  },
  {
   "cell_type": "code",
   "execution_count": 90,
   "metadata": {},
   "outputs": [
    {
     "name": "stdout",
     "output_type": "stream",
     "text": [
      "Salvou as informações\n"
     ]
    }
   ],
   "source": [
    "try:\n",
    "    salvar_log = navegador.find_element(By.XPATH, '//*[@id=\"mount_0_0_Qj\"]/div/div/div[2]/div/div/div[1]/div[1]/div[2]/section/main/div/div/div/section/div/button')\n",
    "    salvar_log.click()\n",
    "    time.sleep(5)\n",
    "    print(\"Fechou a notificação!\")\n",
    "except:\n",
    "    salvar_inf = navegador.find_element(By.CLASS_NAME, '_acan._acap._acas._aj1-._ap30')\n",
    "    salvar_inf.click()\n",
    "    time.sleep(5)\n",
    "    print(\"Salvou as informações\")"
   ]
  },
  {
   "cell_type": "markdown",
   "metadata": {},
   "source": [
    "#### Ativar ou Desativar Notificações"
   ]
  },
  {
   "cell_type": "code",
   "execution_count": 91,
   "metadata": {},
   "outputs": [
    {
     "name": "stdout",
     "output_type": "stream",
     "text": [
      "apertei o botão esc do teclado usando pyautogui\n"
     ]
    }
   ],
   "source": [
    "import pyautogui\n",
    "try:\n",
    "    desativar_noti = navegador.find_element(By.XPATH, '/html/body/div[7]/div[1]/div/div[2]/div/div/div/div/div[2]/div/div/div[3]/button[2]')\n",
    "    desativar_noti.click()\n",
    "    time.sleep(5)\n",
    "except:\n",
    "    pyautogui.press('esc')\n",
    "    time.sleep(3)\n",
    "    print(\"apertei o botão esc do teclado usando pyautogui\")"
   ]
  },
  {
   "cell_type": "code",
   "execution_count": 92,
   "metadata": {},
   "outputs": [],
   "source": [
    "account = ['bishop_linux']\n",
    "\n",
    "for acc in account:\n",
    "    nav = navegador.get(f'https://www.instagram.com/{acc}/following/')\n",
    "    time.sleep(8)\n",
    "    #print(acc)"
   ]
  },
  {
   "cell_type": "code",
   "execution_count": 93,
   "metadata": {},
   "outputs": [
    {
     "name": "stdout",
     "output_type": "stream",
     "text": [
      "Username: maximusdecimusb\n",
      "Username: upe.caruaru\n",
      "Username: ppgec.upe\n",
      "Username: durval.lins\n",
      "Username: upegaranhuns\n",
      "Username: facepe_oficial\n",
      "Username: educacaopeoficial\n",
      "Username: upeoficial_\n",
      "Username: governope\n",
      "Username: marianaa.fariass\n",
      "Username: flisolpalmares\n",
      "Username: milena0_brandao\n"
     ]
    }
   ],
   "source": [
    "# Defina o padrão do XPath com o marcador *\n",
    "xpath_padrao = \"/html/body/div[6]/div[1]/div/div[2]/div/div/div/div/div[2]/div/div/div[4]/div[1]/div/div[*]/div/div/div/div[2]/div/div/div/div/div/a/div/div/span\"\n",
    "\n",
    "# Função para rolar a página para baixo\n",
    "def scroll_down():\n",
    "    navegador.execute_script(\"window.scrollTo(0, document.body.scrollHeight);\")\n",
    "    time.sleep(4)  # Tempo de espera para a página rolar completamente\n",
    "\n",
    "# Lista para armazenar os elementos coletados\n",
    "user_names = []\n",
    "\n",
    "# Coletar os elementos enquanto a barra de rolagem estiver presente\n",
    "while True:\n",
    "    # Encontre todos os elementos correspondentes ao XPath atual\n",
    "    elements = navegador.find_elements(By.XPATH, xpath_padrao)\n",
    "    \n",
    "    # Adicione os elementos à lista\n",
    "    user_names.extend([element.text for element in elements])\n",
    "    \n",
    "    # Rolar a página para baixo\n",
    "    scroll_down()\n",
    "    \n",
    "    # Verifique se a barra de rolagem chegou ao final da página\n",
    "    if navegador.execute_script(\"return window.innerHeight + window.scrollY\") >= navegador.execute_script(\"return document.body.scrollHeight\"):\n",
    "        break\n",
    "\n",
    "    # Imprimir os nomes de usuário coletados\n",
    "for name in user_names:\n",
    "    print(f'Username: {name}')"
   ]
  },
  {
   "cell_type": "code",
   "execution_count": 94,
   "metadata": {},
   "outputs": [],
   "source": [
    "\n",
    "# user_name = navegador.find_elements(By.XPATH, '/html/body/div[6]/div[1]/div/div[2]/div/div/div/div/div[2]/div/div/div[4]/div[1]/div/div[*]/div/div/div/div[2]/div/div/div/div/div/a/div/div/span')                       \n",
    "# time.sleep(5)\n",
    "\n",
    "# for i in user_name:\n",
    "#     print(f'Username: {i.text}')"
   ]
  },
  {
   "cell_type": "code",
   "execution_count": 95,
   "metadata": {},
   "outputs": [],
   "source": [
    "#time.sleep(10)\n",
    "navegador.close() # Fecha o navegador"
   ]
  },
  {
   "cell_type": "code",
   "execution_count": 96,
   "metadata": {},
   "outputs": [],
   "source": [
    "# Próximo passo é validar se está seguindo, se estiver ignorar se não estiver clicar em seguir e passar pro próximo\n",
    "\n"
   ]
  },
  {
   "cell_type": "code",
   "execution_count": 97,
   "metadata": {},
   "outputs": [],
   "source": [
    "# import pandas as pd\n",
    "\n",
    "# seguindo = pd.DataFrame({'following_usernames': lis})\n",
    "# seguindo\n",
    "\n",
    "# Caso eu decida salvar as informações em um excel\n",
    "# seguindo.to_excel('Seguindo.xlsx', index=False)"
   ]
  },
  {
   "cell_type": "code",
   "execution_count": 98,
   "metadata": {},
   "outputs": [],
   "source": [
    "# time.sleep(5)\n",
    "# pyautogui.hotkey('crtl', 'w')"
   ]
  },
  {
   "cell_type": "markdown",
   "metadata": {},
   "source": [
    "#### Criando Publicação"
   ]
  },
  {
   "cell_type": "code",
   "execution_count": 99,
   "metadata": {},
   "outputs": [],
   "source": [
    "# criar_pub = navegador.find_element(By.XPATH, '//*[@id=\"mount_0_0_0W\"]/div/div/div[2]/div/div/div[1]/div[1]/div[1]/div/div/div/div/div[2]/div[7]/div/span/div/a/div/div[2]')\n",
    "# criar_pub.click()\n",
    "# time.sleep(5)"
   ]
  },
  {
   "cell_type": "code",
   "execution_count": 100,
   "metadata": {},
   "outputs": [],
   "source": [
    "# pop_up_pub = navegador.find_element(By.XPATH, '/html/body/div[6]/div[1]/div/div[3]/div/div/div/div/div')\n",
    "# botao_pop_up = navegador.find_element(By.XPATH, '/html/body/div[6]/div[1]/div/div[3]/div/div/div/div/div/div/div/div[2]/div[1]/div/div/div[2]/div/button')\n",
    "# if pop_up_pub == True:\n",
    "#     botao_pop_up.click()\n",
    "# else:\n",
    "#     pass"
   ]
  },
  {
   "cell_type": "code",
   "execution_count": 101,
   "metadata": {},
   "outputs": [],
   "source": [
    "# navegador.close() # Fecha o navegador"
   ]
  }
 ],
 "metadata": {
  "kernelspec": {
   "display_name": ".venv",
   "language": "python",
   "name": "python3"
  },
  "language_info": {
   "codemirror_mode": {
    "name": "ipython",
    "version": 3
   },
   "file_extension": ".py",
   "mimetype": "text/x-python",
   "name": "python",
   "nbconvert_exporter": "python",
   "pygments_lexer": "ipython3",
   "version": "3.12.2"
  }
 },
 "nbformat": 4,
 "nbformat_minor": 2
}
